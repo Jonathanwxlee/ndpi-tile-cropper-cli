{
 "cells": [
  {
   "cell_type": "code",
   "execution_count": 20,
   "id": "b52f4802",
   "metadata": {},
   "outputs": [],
   "source": [
    "import pandas as pd \n",
    "import glob \n",
    "import os\n",
    "import numpy as np"
   ]
  },
  {
   "cell_type": "code",
   "execution_count": null,
   "id": "cf8a8bfc",
   "metadata": {},
   "outputs": [],
   "source": [
    "# select images with small grains"
   ]
  },
  {
   "cell_type": "code",
   "execution_count": 21,
   "id": "86f9091a",
   "metadata": {},
   "outputs": [],
   "source": [
    "imdb= pd.read_excel(\"/Users/jtfeng/Documents/MS_Thesis/Annotations/UtrechtPollen_imdb_full12.xlsx\", dtype=object)"
   ]
  },
  {
   "cell_type": "code",
   "execution_count": 22,
   "id": "9b5f7bae",
   "metadata": {},
   "outputs": [
    {
     "name": "stdout",
     "output_type": "stream",
     "text": [
      "6866\n"
     ]
    }
   ],
   "source": [
    "print(len(imdb))"
   ]
  },
  {
   "cell_type": "code",
   "execution_count": 23,
   "id": "9fb64552",
   "metadata": {},
   "outputs": [],
   "source": [
    "small_grains_list = ['579ae840-77fa-4845-b815-f7fbeb118b79','19eb927f-f070-4ae3-975a-7dbb5638c621','21cb7332-2c2d-4cf4-aa82-3949d152feb5']\n",
    "# cecropia, urticaceae-moraceae, melastomaceae"
   ]
  },
  {
   "cell_type": "code",
   "execution_count": 24,
   "id": "5e2fd694",
   "metadata": {},
   "outputs": [],
   "source": [
    "imdb = imdb[imdb['SpeciesId'].isin(small_grains_list)] "
   ]
  },
  {
   "cell_type": "code",
   "execution_count": 25,
   "id": "3c2e921c",
   "metadata": {},
   "outputs": [
    {
     "name": "stdout",
     "output_type": "stream",
     "text": [
      "216\n"
     ]
    }
   ],
   "source": [
    "imdb = imdb[imdb['FolderName'] != 'PALIV_22-23_slide 1_scan1'] # problem with annotations on this slide \n",
    "imdb = imdb[imdb['FolderName'] != 'PALIV_B_Sample_32-33_glyc_scan2'] # problem with annotations on this slide \n",
    "\n",
    "print (len(imdb))"
   ]
  },
  {
   "cell_type": "code",
   "execution_count": 26,
   "id": "2e9d4b5a",
   "metadata": {},
   "outputs": [],
   "source": [
    "imdb.to_excel(\"/Users/jtfeng/Documents/MS_Thesis/Annotations/UtrechtPollen_imdb_smallGrains.xlsx\")"
   ]
  }
 ],
 "metadata": {
  "kernelspec": {
   "display_name": "Python [conda env:root] *",
   "language": "python",
   "name": "conda-root-py"
  },
  "language_info": {
   "codemirror_mode": {
    "name": "ipython",
    "version": 3
   },
   "file_extension": ".py",
   "mimetype": "text/x-python",
   "name": "python",
   "nbconvert_exporter": "python",
   "pygments_lexer": "ipython3",
   "version": "3.8.8"
  }
 },
 "nbformat": 4,
 "nbformat_minor": 5
}
