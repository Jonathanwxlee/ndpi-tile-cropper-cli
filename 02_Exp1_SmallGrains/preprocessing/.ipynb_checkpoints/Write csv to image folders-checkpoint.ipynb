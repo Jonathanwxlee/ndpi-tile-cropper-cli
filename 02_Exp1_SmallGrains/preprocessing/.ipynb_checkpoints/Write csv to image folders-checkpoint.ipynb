{
 "cells": [
  {
   "cell_type": "code",
   "execution_count": 1,
   "id": "3fb8b582",
   "metadata": {},
   "outputs": [],
   "source": [
    "import pandas as pd\n",
    "import os.path as path\n",
    "import shutil\n",
    "from pathlib import Path\n",
    "import os"
   ]
  },
  {
   "cell_type": "code",
   "execution_count": null,
   "id": "15f6d814",
   "metadata": {},
   "outputs": [],
   "source": [
    "# Read excel as dataframe\n",
    "# For each image window, check to make sure csv file doesn't already exist in folder\n",
    "# If it doesn't exist, select all rows for the image window and write to a new csv\n",
    "# save to image window folder"
   ]
  },
  {
   "cell_type": "code",
   "execution_count": 6,
   "id": "455b76e3",
   "metadata": {},
   "outputs": [],
   "source": [
    "path_to_imdb = '/Users/jtfeng/Documents/MS_Thesis/Annotations/UtrechtPollen_imdb_smallGrains.xlsx'\n",
    "imdb = pd.read_excel(path_to_imdb, dtype=object)"
   ]
  },
  {
   "cell_type": "code",
   "execution_count": 7,
   "id": "8d938dd5",
   "metadata": {},
   "outputs": [],
   "source": [
    "imgList = imdb['FolderName'].to_numpy()\n",
    "imgWindow = imdb['Img Window'].to_numpy()"
   ]
  },
  {
   "cell_type": "code",
   "execution_count": 8,
   "id": "576cf65d",
   "metadata": {},
   "outputs": [
    {
     "name": "stdout",
     "output_type": "stream",
     "text": [
      "PALIV_B_17.8_slide1_scan2_4\n",
      "annot3.csv\n"
     ]
    }
   ],
   "source": [
    "idx=0\n",
    "img_win_folder = imgList[idx] + \"_\" + str(imgWindow[idx])\n",
    "print(img_win_folder)\n",
    "\n",
    "csv_name = \"annot3.csv\"\n",
    "print(csv_name)"
   ]
  },
  {
   "cell_type": "code",
   "execution_count": 9,
   "id": "74a8aef7",
   "metadata": {},
   "outputs": [
    {
     "name": "stdout",
     "output_type": "stream",
     "text": [
      "  Unnamed: 0                 FolderName                              PollenId  \\\n",
      "0          1  PALIV_B_17.8_slide1_scan2  5d5e4000-b872-433a-8b3f-78f9970ea44f   \n",
      "\n",
      "                                SlideId                             SpeciesId  \\\n",
      "0  64aef44c-c0c1-45bd-90d9-3494bf266e58  19eb927f-f070-4ae3-975a-7dbb5638c621   \n",
      "\n",
      "                                 UserId Probability Row Column TileId  ...  \\\n",
      "0  97897b9e-d650-4c5a-80cf-412b62f6f68e           9   0      3     27  ...   \n",
      "\n",
      "     Ch   wMicrons   hMicrons  wPixels  hPixels   BoxFolderID  \\\n",
      "0     0   205.4926   152.5659     1392     1040  117877165518   \n",
      "\n",
      "           SlideName Pollen Index in Img Window Code  \\\n",
      "0  17.8_slide1_scan2                          1  u/m   \n",
      "\n",
      "                                StudyId  \n",
      "0  23b090fd-24df-40aa-879c-22ecf97794a3  \n",
      "\n",
      "[1 rows x 48 columns]\n",
      "/Volumes/My Passport for Mac/UTRECHT/Training_Tiles3/PALIV_B_17.8_slide1_scan2_4/annot3.csv\n"
     ]
    }
   ],
   "source": [
    "img_label = imdb.loc[(imdb['FolderName'] == imgList[idx])& (imdb['Img Window'] == imgWindow[idx])]\n",
    "print(img_label)\n",
    "\n",
    "path_to_save = '/Volumes/My Passport for Mac/UTRECHT/Training_Tiles3'\n",
    "csv_path = path.join(path_to_save, img_win_folder, csv_name)\n",
    "img_label.to_csv(csv_path)\n",
    "print(csv_path)"
   ]
  },
  {
   "cell_type": "code",
   "execution_count": 12,
   "id": "6aefb606",
   "metadata": {},
   "outputs": [
    {
     "name": "stdout",
     "output_type": "stream",
     "text": [
      "/Volumes/My Passport for Mac/UTRECHT/Training_Tiles3/PALIV_B_17.8_slide1_scan2_4/annot3.csv exists\n",
      "/Volumes/My Passport for Mac/UTRECHT/Training_Tiles3/PALIV_B_17.8_slide1_scan2_110/annot3.csv exists\n",
      "/Volumes/My Passport for Mac/UTRECHT/Training_Tiles3/PALIV_B_17.8_slide1_scan2_112/annot3.csv exists\n",
      "/Volumes/My Passport for Mac/UTRECHT/Training_Tiles3/PALIV_B_17.8_slide1_scan2_120/annot3.csv exists\n",
      "/Volumes/My Passport for Mac/UTRECHT/Training_Tiles3/PALIV_B_17.8_slide1_scan2_133/annot3.csv exists\n",
      "/Volumes/My Passport for Mac/UTRECHT/Training_Tiles3/PALIV_B_17.8_slide1_scan2_134/annot3.csv exists\n",
      "/Volumes/My Passport for Mac/UTRECHT/Training_Tiles3/PALIV_B_17.8_slide1_scan2_187/annot3.csv exists\n",
      "/Volumes/My Passport for Mac/UTRECHT/Training_Tiles3/PALIV_B_19_slide2_scan1_65/annot3.csv exists\n",
      "/Volumes/My Passport for Mac/UTRECHT/Training_Tiles3/PALIV_B_19_slide2_scan1_390/annot3.csv exists\n",
      "/Volumes/My Passport for Mac/UTRECHT/Training_Tiles3/PALIV_24-25_slide 1_scan1_274/annot3.csv exists\n",
      "/Volumes/My Passport for Mac/UTRECHT/Training_Tiles3/PALIV_24-25_slide 1_scan2_253/annot3.csv exists\n"
     ]
    }
   ],
   "source": [
    "path_to_save = '/Volumes/My Passport for Mac/UTRECHT/Training_Tiles3'\n",
    "\n",
    "for idx in range(len(list(imgList))):\n",
    "# for idx in range(5,10):\n",
    "    img_win_folder = imgList[idx] + \"_\" + str(imgWindow[idx])\n",
    "    csv_name = \"annot3.csv\"\n",
    "    csv_path = path.join(path_to_save, img_win_folder, csv_name)\n",
    "    \n",
    "    if os.path.exists(csv_path): \n",
    "        print(csv_path, \"exists\") # file exists\n",
    "    if not os.path.exists(csv_path): \n",
    "        img_label = imdb.loc[(imdb['FolderName'] == imgList[idx])& (imdb['Img Window'] == imgWindow[idx])]\n",
    "        img_label.to_csv(csv_path)\n",
    "        \n",
    "    img_label = imdb.loc[(imdb['FolderName'] == imgList[idx])& (imdb['Img Window'] == imgWindow[idx])]\n",
    "    img_label.to_csv(csv_path)"
   ]
  },
  {
   "cell_type": "code",
   "execution_count": 11,
   "id": "350a482e",
   "metadata": {},
   "outputs": [
    {
     "name": "stdout",
     "output_type": "stream",
     "text": [
      "/Volumes/My Passport for Mac/UTRECHT/Training_Tiles3/PALIV_B_17.8_slide1_scan2_134/annot3.csv\n"
     ]
    }
   ],
   "source": [
    "print(csv_path)"
   ]
  }
 ],
 "metadata": {
  "kernelspec": {
   "display_name": "Python 3",
   "language": "python",
   "name": "python3"
  },
  "language_info": {
   "codemirror_mode": {
    "name": "ipython",
    "version": 3
   },
   "file_extension": ".py",
   "mimetype": "text/x-python",
   "name": "python",
   "nbconvert_exporter": "python",
   "pygments_lexer": "ipython3",
   "version": "3.8.8"
  }
 },
 "nbformat": 4,
 "nbformat_minor": 5
}
